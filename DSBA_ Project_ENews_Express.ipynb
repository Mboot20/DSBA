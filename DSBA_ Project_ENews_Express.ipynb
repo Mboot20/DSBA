{
 "cells": [
  {
   "cell_type": "markdown",
   "id": "6yDxo9u0d9Na",
   "metadata": {
    "id": "6yDxo9u0d9Na"
   },
   "source": [
    "# Project Business Statistics: E-news Express\n",
    "\n",
    "**Marks: 60**"
   ]
  },
  {
   "cell_type": "markdown",
   "id": "SrLd-ICEmPSD",
   "metadata": {
    "id": "SrLd-ICEmPSD"
   },
   "source": [
    "## Define Problem Statement and Objectives"
   ]
  },
  {
   "cell_type": "markdown",
   "id": "9Vt1PLLqmXNn",
   "metadata": {
    "id": "9Vt1PLLqmXNn"
   },
   "source": [
    "**Background:**\n",
    "\n",
    "An online news portal aims to expand its business by acquiring new subscribers. Every visitor to the website takes certain actions based on their interest. The company plans to analyze these interests and wants to determine whether a new feature will be effective or not. Companies often analyze users' responses to two variants of a product to decide which of the two variants is more effective. This experimental technique is known as a/b testing that is used to determine whether a new feature attracts users based on a chosen metric.\n",
    "Suppose you are hired as a Data Scientist in E-news Express. The design team of the company has created a new landing page. You have been assigned the task to decide whether the new landing page is more effective to gather new subscribers. Suppose you randomly selected 100 users and divided them equally into two groups. The old landing page is served to the first group (control group) and the new landing page is served to the second group (treatment group). Various data about the customers in both groups are collected in 'abtest.csv'. Perform the statistical analysis to answer the following questions using the collected data.\n",
    "\n",
    "**Objective:**\n",
    "Statistical analysis of business data. Explore the dataset and extract insights from the data. The idea is for you to get comfortable with doing statistical analysis in Python.\n",
    "You are expected to perform the statistical analysis to answer the following questions:\n",
    "1.\tExplore the dataset and extract insights using Exploratory Data Analysis.\n",
    "2.\tDo the users spend more time on the new landing page than the old landing page?\n",
    "3.\tIs the conversion rate (the proportion of users who visit the landing page and get converted) for the new page greater than the conversion rate for the old page?\n",
    "4.\tDoes the converted status depend on the preferred language? [Hint: Create a contingency table using the pandas.crosstab() function]\n",
    "5.\tIs the mean time spent on the new page same for the different language users?\n",
    "*Consider a significance level of 0.05 for all tests.\n",
    "\n",
    "**Data Dictionary:**\n",
    "1.\tuser_id - This represents the user ID of the person visiting the website.\n",
    "2.\tgroup - This represents whether the user belongs to the first group (control) or the second group (treatment).\n",
    "3.\tlanding_page - This represents whether the landing page is new or old.\n",
    "4.\ttime_spent_on_the_page - This represents the time (in minutes) spent by the user on the landing page.\n",
    "5.\tconverted - This represents whether the user gets converted to a subscriber of the news portal or not.\n",
    "language_preferred - This represents the language chosen by the user to view the landing page\n"
   ]
  },
  {
   "cell_type": "markdown",
   "id": "a6a3d218",
   "metadata": {
    "id": "a6a3d218"
   },
   "source": [
    "## Import all the necessary libraries"
   ]
  },
  {
   "cell_type": "code",
   "execution_count": 1,
   "id": "658c5dec",
   "metadata": {
    "id": "658c5dec"
   },
   "outputs": [],
   "source": [
    "import numpy as np\n",
    "import pandas as pd\n",
    "\n",
    "# import libraries for data visualization\n",
    "import matplotlib.pyplot as plt\n",
    "import seaborn as sns\n",
    "sns.set(color_codes=True)\n",
    "# ensure Matplotlib to include the seaborn graph into the jupyter notebook\n",
    "%matplotlib inline\n",
    "#import libraries for warnings\n",
    "import warnings\n",
    "#ignore warnings\n",
    "warnings.filterwarnings(\"ignore\") "
   ]
  },
  {
   "cell_type": "markdown",
   "id": "9d75cfa2",
   "metadata": {
    "id": "9d75cfa2"
   },
   "source": [
    "## 1. Explore the dataset and extract insights using Exploratory Data Analysis. (10 Marks)"
   ]
  },
  {
   "cell_type": "markdown",
   "id": "27201534",
   "metadata": {
    "id": "27201534"
   },
   "source": [
    "### Exploratory Data Analysis - Step by step approach\n",
    "\n",
    "Typical Data exploration activity consists of the following steps:\n",
    "1.\tImporting Data\n",
    "2.\tVariable Identification\n",
    "3.  Variable Transformation/Feature Creation\n",
    "4.  Missing value detection\n",
    "5.\tUnivariate Analysis\n",
    "6.\tBivariate Analysis"
   ]
  },
  {
   "cell_type": "markdown",
   "id": "6970dd99",
   "metadata": {
    "id": "6970dd99"
   },
   "source": [
    "### Reading the Data into a DataFrame"
   ]
  },
  {
   "cell_type": "code",
   "execution_count": 2,
   "id": "d3b95640",
   "metadata": {
    "id": "d3b95640"
   },
   "outputs": [
    {
     "data": {
      "text/html": [
       "<div>\n",
       "<style scoped>\n",
       "    .dataframe tbody tr th:only-of-type {\n",
       "        vertical-align: middle;\n",
       "    }\n",
       "\n",
       "    .dataframe tbody tr th {\n",
       "        vertical-align: top;\n",
       "    }\n",
       "\n",
       "    .dataframe thead th {\n",
       "        text-align: right;\n",
       "    }\n",
       "</style>\n",
       "<table border=\"1\" class=\"dataframe\">\n",
       "  <thead>\n",
       "    <tr style=\"text-align: right;\">\n",
       "      <th></th>\n",
       "      <th>user_id</th>\n",
       "      <th>group</th>\n",
       "      <th>landing_page</th>\n",
       "      <th>time_spent_on_the_page</th>\n",
       "      <th>converted</th>\n",
       "      <th>language_preferred</th>\n",
       "    </tr>\n",
       "  </thead>\n",
       "  <tbody>\n",
       "    <tr>\n",
       "      <th>0</th>\n",
       "      <td>546592</td>\n",
       "      <td>control</td>\n",
       "      <td>old</td>\n",
       "      <td>3.48</td>\n",
       "      <td>no</td>\n",
       "      <td>Spanish</td>\n",
       "    </tr>\n",
       "    <tr>\n",
       "      <th>1</th>\n",
       "      <td>546468</td>\n",
       "      <td>treatment</td>\n",
       "      <td>new</td>\n",
       "      <td>7.13</td>\n",
       "      <td>yes</td>\n",
       "      <td>English</td>\n",
       "    </tr>\n",
       "    <tr>\n",
       "      <th>2</th>\n",
       "      <td>546462</td>\n",
       "      <td>treatment</td>\n",
       "      <td>new</td>\n",
       "      <td>4.40</td>\n",
       "      <td>no</td>\n",
       "      <td>Spanish</td>\n",
       "    </tr>\n",
       "    <tr>\n",
       "      <th>3</th>\n",
       "      <td>546567</td>\n",
       "      <td>control</td>\n",
       "      <td>old</td>\n",
       "      <td>3.02</td>\n",
       "      <td>no</td>\n",
       "      <td>French</td>\n",
       "    </tr>\n",
       "    <tr>\n",
       "      <th>4</th>\n",
       "      <td>546459</td>\n",
       "      <td>treatment</td>\n",
       "      <td>new</td>\n",
       "      <td>4.75</td>\n",
       "      <td>yes</td>\n",
       "      <td>Spanish</td>\n",
       "    </tr>\n",
       "  </tbody>\n",
       "</table>\n",
       "</div>"
      ],
      "text/plain": [
       "   user_id      group landing_page  time_spent_on_the_page converted  \\\n",
       "0   546592    control          old                    3.48        no   \n",
       "1   546468  treatment          new                    7.13       yes   \n",
       "2   546462  treatment          new                    4.40        no   \n",
       "3   546567    control          old                    3.02        no   \n",
       "4   546459  treatment          new                    4.75       yes   \n",
       "\n",
       "  language_preferred  \n",
       "0            Spanish  \n",
       "1            English  \n",
       "2            Spanish  \n",
       "3             French  \n",
       "4            Spanish  "
      ]
     },
     "execution_count": 2,
     "metadata": {},
     "output_type": "execute_result"
    }
   ],
   "source": [
    "# Reading the dataset abtest.csv\n",
    "c_data= pd.read_csv('abtest.csv')\n",
    "# Returning the first five rows\n",
    "c_data.head()"
   ]
  },
  {
   "cell_type": "markdown",
   "id": "a4e471fd",
   "metadata": {
    "id": "a4e471fd"
   },
   "source": [
    "### Data Overview\n",
    "- View a few rows of the data frame.\n",
    "- Check the shape and data types of the data frame. Add observations.\n",
    "- Fix the data-types (if needed).\n",
    "- Missing Value Check.\n",
    "- Summary statistics from the data frame. Add observations."
   ]
  },
  {
   "cell_type": "code",
   "execution_count": 3,
   "id": "e1ad11d4",
   "metadata": {
    "id": "e1ad11d4"
   },
   "outputs": [
    {
     "data": {
      "text/plain": [
       "(100, 6)"
      ]
     },
     "execution_count": 3,
     "metadata": {},
     "output_type": "execute_result"
    }
   ],
   "source": [
    "# Using the shape attribute to determine the number of rows and columns\n",
    "c_data.shape"
   ]
  },
  {
   "cell_type": "code",
   "execution_count": 4,
   "id": "b1dcbb88",
   "metadata": {},
   "outputs": [
    {
     "name": "stdout",
     "output_type": "stream",
     "text": [
      "<class 'pandas.core.frame.DataFrame'>\n",
      "RangeIndex: 100 entries, 0 to 99\n",
      "Data columns (total 6 columns):\n",
      " #   Column                  Non-Null Count  Dtype  \n",
      "---  ------                  --------------  -----  \n",
      " 0   user_id                 100 non-null    int64  \n",
      " 1   group                   100 non-null    object \n",
      " 2   landing_page            100 non-null    object \n",
      " 3   time_spent_on_the_page  100 non-null    float64\n",
      " 4   converted               100 non-null    object \n",
      " 5   language_preferred      100 non-null    object \n",
      "dtypes: float64(1), int64(1), object(4)\n",
      "memory usage: 4.8+ KB\n"
     ]
    }
   ],
   "source": [
    "#Using info() to print a concise summary of the DataFrame\n",
    "c_data.info()"
   ]
  },
  {
   "cell_type": "code",
   "execution_count": 5,
   "id": "8d851b7b",
   "metadata": {},
   "outputs": [
    {
     "data": {
      "text/plain": [
       "user_id                   0.0\n",
       "group                       0\n",
       "landing_page                0\n",
       "time_spent_on_the_page    0.0\n",
       "converted                   0\n",
       "language_preferred          0\n",
       "dtype: object"
      ]
     },
     "execution_count": 5,
     "metadata": {},
     "output_type": "execute_result"
    }
   ],
   "source": [
    "# Checking for null values\n",
    "c_data[c_data.isnull()].sum()"
   ]
  },
  {
   "cell_type": "markdown",
   "id": "3551d996",
   "metadata": {},
   "source": [
    "The dataframe shows three datatypes:\n",
    "\n",
    "- Integer (int64)\n",
    "- Float (float64)\n",
    "- Object (object) (type string) The Dataframe does not contain any missing or null values as seen in the result from info().\n",
    "  This is confirmed by the isnull() function."
   ]
  },
  {
   "cell_type": "code",
   "execution_count": 6,
   "id": "1e017fad",
   "metadata": {},
   "outputs": [
    {
     "name": "stdout",
     "output_type": "stream",
     "text": [
      "<class 'pandas.core.frame.DataFrame'>\n",
      "RangeIndex: 100 entries, 0 to 99\n",
      "Data columns (total 6 columns):\n",
      " #   Column                  Non-Null Count  Dtype   \n",
      "---  ------                  --------------  -----   \n",
      " 0   user_id                 100 non-null    int64   \n",
      " 1   group                   100 non-null    category\n",
      " 2   landing_page            100 non-null    category\n",
      " 3   time_spent_on_the_page  100 non-null    float64 \n",
      " 4   converted               100 non-null    category\n",
      " 5   language_preferred      100 non-null    category\n",
      "dtypes: category(4), float64(1), int64(1)\n",
      "memory usage: 2.6 KB\n"
     ]
    }
   ],
   "source": [
    "# Converting \"objects\" to \"category\" reduces the data space required to store the dataframe\n",
    "# Writing the code to convert 'group', 'landing page', 'converted' and 'language preferred' into categorical data.\n",
    "# Passing the list of columns to be converted\n",
    "\n",
    "c_data[['group','landing_page','converted','language_preferred']]= c_data[['group','landing_page','converted','language_preferred']].astype('category')\n",
    "\n",
    "# Checking the dataset again to confirm conversion from string to category datatype\n",
    "c_data.info()"
   ]
  },
  {
   "cell_type": "markdown",
   "id": "8e6b47a5",
   "metadata": {},
   "source": [
    "#### Statistical Summary of the Sample"
   ]
  },
  {
   "cell_type": "code",
   "execution_count": 7,
   "id": "d329fd06",
   "metadata": {},
   "outputs": [
    {
     "data": {
      "text/html": [
       "<div>\n",
       "<style scoped>\n",
       "    .dataframe tbody tr th:only-of-type {\n",
       "        vertical-align: middle;\n",
       "    }\n",
       "\n",
       "    .dataframe tbody tr th {\n",
       "        vertical-align: top;\n",
       "    }\n",
       "\n",
       "    .dataframe thead th {\n",
       "        text-align: right;\n",
       "    }\n",
       "</style>\n",
       "<table border=\"1\" class=\"dataframe\">\n",
       "  <thead>\n",
       "    <tr style=\"text-align: right;\">\n",
       "      <th></th>\n",
       "      <th>count</th>\n",
       "      <th>mean</th>\n",
       "      <th>std</th>\n",
       "      <th>min</th>\n",
       "      <th>25%</th>\n",
       "      <th>50%</th>\n",
       "      <th>75%</th>\n",
       "      <th>max</th>\n",
       "    </tr>\n",
       "  </thead>\n",
       "  <tbody>\n",
       "    <tr>\n",
       "      <th>user_id</th>\n",
       "      <td>100.0</td>\n",
       "      <td>546517.000</td>\n",
       "      <td>52.296</td>\n",
       "      <td>546443.00</td>\n",
       "      <td>546467.75</td>\n",
       "      <td>546492.500</td>\n",
       "      <td>546567.250</td>\n",
       "      <td>546592.00</td>\n",
       "    </tr>\n",
       "    <tr>\n",
       "      <th>time_spent_on_the_page</th>\n",
       "      <td>100.0</td>\n",
       "      <td>5.378</td>\n",
       "      <td>2.378</td>\n",
       "      <td>0.19</td>\n",
       "      <td>3.88</td>\n",
       "      <td>5.415</td>\n",
       "      <td>7.022</td>\n",
       "      <td>10.71</td>\n",
       "    </tr>\n",
       "  </tbody>\n",
       "</table>\n",
       "</div>"
      ],
      "text/plain": [
       "                        count        mean     std        min        25%  \\\n",
       "user_id                 100.0  546517.000  52.296  546443.00  546467.75   \n",
       "time_spent_on_the_page  100.0       5.378   2.378       0.19       3.88   \n",
       "\n",
       "                               50%         75%        max  \n",
       "user_id                 546492.500  546567.250  546592.00  \n",
       "time_spent_on_the_page       5.415       7.022      10.71  "
      ]
     },
     "execution_count": 7,
     "metadata": {},
     "output_type": "execute_result"
    }
   ],
   "source": [
    "# The describe() method is used here to generate a statistical summary. Adding the transpose function highlited by T \n",
    "# for a better view and rounded the float numbers to 2 decimal points\n",
    "c_data.describe().T.round(3)"
   ]
  },
  {
   "cell_type": "code",
   "execution_count": 3,
   "id": "1521f5b2",
   "metadata": {},
   "outputs": [
    {
     "data": {
      "text/plain": [
       "control      50\n",
       "treatment    50\n",
       "Name: group, dtype: int64"
      ]
     },
     "execution_count": 3,
     "metadata": {},
     "output_type": "execute_result"
    }
   ],
   "source": [
    "# Counting the unique values of the group object\n",
    "group_count = c_data['group'].value_counts()\n",
    "group_count"
   ]
  },
  {
   "cell_type": "code",
   "execution_count": 4,
   "id": "323d6984",
   "metadata": {},
   "outputs": [
    {
     "data": {
      "text/plain": [
       "old    50\n",
       "new    50\n",
       "Name: landing_page, dtype: int64"
      ]
     },
     "execution_count": 4,
     "metadata": {},
     "output_type": "execute_result"
    }
   ],
   "source": [
    "# Counting the unique values of the landing page object\n",
    "c_data['landing_page'].value_counts()"
   ]
  },
  {
   "cell_type": "code",
   "execution_count": 5,
   "id": "f1eb946f",
   "metadata": {},
   "outputs": [
    {
     "data": {
      "text/plain": [
       "yes    54\n",
       "no     46\n",
       "Name: converted, dtype: int64"
      ]
     },
     "execution_count": 5,
     "metadata": {},
     "output_type": "execute_result"
    }
   ],
   "source": [
    "# Counting the unique values of the converted object\n",
    "c_data['converted'].value_counts()"
   ]
  },
  {
   "cell_type": "code",
   "execution_count": 11,
   "id": "03980163",
   "metadata": {},
   "outputs": [
    {
     "data": {
      "text/plain": [
       "French     34\n",
       "Spanish    34\n",
       "English    32\n",
       "Name: language_preferred, dtype: int64"
      ]
     },
     "execution_count": 11,
     "metadata": {},
     "output_type": "execute_result"
    }
   ],
   "source": [
    "# Counting the unique values of the language preferred object\n",
    "c_data['language_preferred'].value_counts()"
   ]
  },
  {
   "cell_type": "markdown",
   "id": "9c67657d",
   "metadata": {},
   "source": [
    "#### Statistical Summary for the Two Groups Samples"
   ]
  },
  {
   "cell_type": "code",
   "execution_count": 6,
   "id": "bd5fa5cd",
   "metadata": {},
   "outputs": [
    {
     "data": {
      "text/plain": [
       "4.532"
      ]
     },
     "execution_count": 6,
     "metadata": {},
     "output_type": "execute_result"
    }
   ],
   "source": [
    "# Figuring out the average time spent by a visitor on the old page. Value rounded to 3 decimal points.\n",
    "round(c_data[c_data['group']== 'control']['time_spent_on_the_page'].mean(),3)"
   ]
  },
  {
   "cell_type": "code",
   "execution_count": 7,
   "id": "86d14707",
   "metadata": {},
   "outputs": [
    {
     "data": {
      "text/plain": [
       "10.3"
      ]
     },
     "execution_count": 7,
     "metadata": {},
     "output_type": "execute_result"
    }
   ],
   "source": [
    "# Returning the maximum time spent by a visitor to navigate on the old page\n",
    "c_data[c_data['group']== 'control']['time_spent_on_the_page'].max()"
   ]
  },
  {
   "cell_type": "code",
   "execution_count": 14,
   "id": "2707103a",
   "metadata": {},
   "outputs": [
    {
     "data": {
      "text/plain": [
       "0.19"
      ]
     },
     "execution_count": 14,
     "metadata": {},
     "output_type": "execute_result"
    }
   ],
   "source": [
    "# Returning the minimum time spent by a visiotr to navigate on the old page\n",
    "c_data[c_data['group']== 'control']['time_spent_on_the_page'].min()"
   ]
  },
  {
   "cell_type": "code",
   "execution_count": 8,
   "id": "e13dc898",
   "metadata": {},
   "outputs": [
    {
     "data": {
      "text/plain": [
       "2.582"
      ]
     },
     "execution_count": 8,
     "metadata": {},
     "output_type": "execute_result"
    }
   ],
   "source": [
    "# Calculating the standard deviation on the time spent on the old page by the control group\n",
    "round(c_data[c_data['group']== 'control']['time_spent_on_the_page'].std(),3)"
   ]
  },
  {
   "cell_type": "code",
   "execution_count": 9,
   "id": "c0544c63",
   "metadata": {},
   "outputs": [
    {
     "data": {
      "text/plain": [
       "6.2232"
      ]
     },
     "execution_count": 9,
     "metadata": {},
     "output_type": "execute_result"
    }
   ],
   "source": [
    "# Figuring out the mean time spent by a visitor to navigate on the new page\n",
    "c_data[c_data['group']== 'treatment']['time_spent_on_the_page'].mean()\n"
   ]
  },
  {
   "cell_type": "code",
   "execution_count": 17,
   "id": "f54726ce",
   "metadata": {},
   "outputs": [
    {
     "data": {
      "text/plain": [
       "10.71"
      ]
     },
     "execution_count": 17,
     "metadata": {},
     "output_type": "execute_result"
    }
   ],
   "source": [
    "# Figuring out the maximum time spend by a visitor on the new page\n",
    "c_data[c_data['group']== 'treatment']['time_spent_on_the_page'].max()"
   ]
  },
  {
   "cell_type": "code",
   "execution_count": 10,
   "id": "c351351f",
   "metadata": {},
   "outputs": [
    {
     "data": {
      "text/plain": [
       "1.65"
      ]
     },
     "execution_count": 10,
     "metadata": {},
     "output_type": "execute_result"
    }
   ],
   "source": [
    "# Returning the minimum time spent by a visitor on the new page\n",
    "round(c_data[c_data['group']== 'treatment']['time_spent_on_the_page'].min(),3)"
   ]
  },
  {
   "cell_type": "code",
   "execution_count": 11,
   "id": "d65ec635",
   "metadata": {},
   "outputs": [
    {
     "data": {
      "text/plain": [
       "1.817"
      ]
     },
     "execution_count": 11,
     "metadata": {},
     "output_type": "execute_result"
    }
   ],
   "source": [
    "# Calculating the standard deviation on the time spent on the new page by the treatment group\n",
    "round(c_data[c_data['group']== 'treatment']['time_spent_on_the_page'].std(),3)"
   ]
  },
  {
   "cell_type": "markdown",
   "id": "0a843453",
   "metadata": {},
   "source": [
    "Observations:\n",
    "- No missing values. \n",
    "- A visitor who belongs to any group spends an average time (Sample mean) of 5.37 minutes on any  \n",
    "  page. However, the average time of a visitor from the control group, who navigates on the old page, \n",
    "  is 4.5 mn while the one from the treatment group- new page is a bit higher and is at 6.22mn. At \n",
    "  first, it can be said that customers spend more time on the new page than the old one.\n",
    "- Half of the page's visitors spent 5.41mn on either the new or old page.\n",
    "- The sample distribution deviates 2.378mn from the mean 5.37 mn which seems very high as it \n",
    "  represents half of the mean. It shows that the distribution is much more varied and therefore less \n",
    "  descriptive and meaningful. Meaningful insights require further statistical analysis.\n",
    "- The minimum time spent on any page is 0.19mn while the maximum time is 10.71mn. \n",
    "- 75%(third quartile) of customers consume 7.02mn on any page and 25% (first quartile) of them 3.8mn."
   ]
  },
  {
   "cell_type": "markdown",
   "id": "68f3b2c9",
   "metadata": {
    "id": "68f3b2c9"
   },
   "source": [
    "### Univariate Analysis "
   ]
  },
  {
   "cell_type": "markdown",
   "id": "f2480fbc",
   "metadata": {},
   "source": [
    "#### Continuous Variable"
   ]
  },
  {
   "cell_type": "code",
   "execution_count": 20,
   "id": "5e25aa2b",
   "metadata": {},
   "outputs": [],
   "source": [
    "# function to plot a boxplot and a histogram along the same scale.\n",
    "# Create a user defined function to plot the graphs. We choose two graphs histogram and boxplot\n",
    "def myhistogram_boxplot (df, feature, figsize=(12, 7), kde=True, bins=None):\n",
    "       \n",
    "    \"\"\"\n",
    "    Boxplot and histogram combined\n",
    "\n",
    "    df: dataframe\n",
    "    feature: dataframe column\n",
    "    figsize: size of figure (default (12,7))\n",
    "    kde: whether to show the density curve (default False)\n",
    "    bins: number of bins for histogram (default None)\n",
    "    \"\"\"\n",
    "# We use the subplots function that take many arguments but will pick the following: \n",
    "\n",
    "    f2, (box1, hist1) = plt.subplots(\n",
    "        nrows=2,  # Number of rows for the subplots grid= 2\n",
    "        sharex=True,  # x-axis will be shared among all subplots\n",
    "        sharey= False,# y-axis will not be shared among all subplots\n",
    "        gridspec_kw={\"height_ratios\": (0.25, 0.75)},# constructor used to create the grid the subplots are placed on. This is a dictionary with \n",
    "        # a key heigh_ratio and two values 0.25 and 0.75\n",
    "        figsize=figsize)\n",
    "    \n",
    "# creating the 2 subplots\n",
    "\n",
    "    # adding a boxplot. And showing the mean as a star in green\n",
    "\n",
    "    sns.boxplot(data=df, x=feature, ax=box1, showmeans=True, color=\"salmon\")  \n",
    "    \n",
    "    # adding a histogram\n",
    "    \n",
    "    sns.histplot(data=df, x=feature, kde=kde, ax=hist1, palette=\"winter\" )\n",
    "    \n",
    "    # Add mean to the histogram with the specified color and line style\n",
    "    \n",
    "    hist1.axvline(df[feature].mean(), color=\"g\", linestyle=\"--\"  ) \n",
    "    \n",
    "     # Add median to the histogram with the specified color and line style\n",
    "        \n",
    "    hist1.axvline(df[feature].median(), color=\"r\", linestyle=\"-\")"
   ]
  },
  {
   "cell_type": "code",
   "execution_count": 21,
   "id": "1597b2e9",
   "metadata": {},
   "outputs": [
    {
     "data": {
      "image/png": "[encoded data removed]",
      "text/plain": [
       "<Figure size 864x504 with 2 Axes>"
      ]
     },
     "metadata": {
      "needs_background": "light"
     },
     "output_type": "display_data"
    }
   ],
   "source": [
    "myhistogram_boxplot(c_data,'time_spent_on_the_page')"
   ]
  },
  {
   "cell_type": "markdown",
   "id": "81ce410f",
   "metadata": {},
   "source": [
    "Observations:\n",
    "- The mean and the median slightly overlap. Half of the visitors spend 5.41mn which is close to the  \n",
    "  average time 5.37mn.\n",
    "- The bell shaped curve depicts a normal distribution."
   ]
  },
  {
   "cell_type": "markdown",
   "id": "52630b27",
   "metadata": {},
   "source": [
    "#### Categorical Variables"
   ]
  },
  {
   "cell_type": "code",
   "execution_count": 22,
   "id": "e6f99481",
   "metadata": {
    "id": "e6f99481"
   },
   "outputs": [],
   "source": [
    "# function to create labeled barplots\n",
    "\n",
    "\n",
    "def labeled_barplot(data, feature, perc=False, n=None):\n",
    "    \"\"\"\n",
    "    Barplot with percentage at the top\n",
    "\n",
    "    data: dataframe\n",
    "    feature: dataframe column\n",
    "    perc: whether to display percentages instead of count (default is False)\n",
    "    n: displays the top n category levels (default is None, i.e., display all levels)\n",
    "    \"\"\"\n",
    "\n",
    "    total = len(data[feature])  # length of the column\n",
    "    count = data[feature].nunique()\n",
    "    \n",
    "    if n is None:\n",
    "        plt.figure(figsize=(count + 1, 5))\n",
    "    else:\n",
    "        plt.figure(figsize=(n + 1, 5))\n",
    "\n",
    "    plt.xticks(rotation=70, fontsize=15)\n",
    "    \n",
    "    ax = sns.countplot(\n",
    "        data=data,\n",
    "        x=feature,\n",
    "        palette=\"Paired\",\n",
    "        order=data[feature].value_counts().index[:n].sort_values(), )\n",
    "\n",
    "    for p in ax.patches:\n",
    "        \n",
    "        if perc == True:\n",
    "            label = \"{:.1f}%\".format(\n",
    "                100 * p.get_height() / total )  # percentage of each class of the category\n",
    "        else:\n",
    "            label = p.get_height()  # count of each level of the category\n",
    "            \n",
    "\n",
    "        x = p.get_x() + p.get_width() / 2  # width of the plot\n",
    "        y = p.get_height()  # height of the plot\n",
    "\n",
    "        ax.annotate(  label, (x, y),  ha=\"center\",  va=\"center\", size=12,xytext=(0, 5),textcoords=\"offset points\")  # annotate the percentage\n",
    "\n",
    "    plt.show()  # show the plot"
   ]
  },
  {
   "cell_type": "code",
   "execution_count": 23,
   "id": "fe50518c",
   "metadata": {},
   "outputs": [
    {
     "data": {
      "image/png": "[encoded data removed]",
      "text/plain": [
       "<Figure size 216x360 with 1 Axes>"
      ]
     },
     "metadata": {
      "needs_background": "light"
     },
     "output_type": "display_data"
    }
   ],
   "source": [
    "labeled_barplot(c_data,'group', perc=True)"
   ]
  },
  {
   "cell_type": "code",
   "execution_count": 24,
   "id": "364bff9e",
   "metadata": {},
   "outputs": [
    {
     "data": {
      "image/png": "[encoded data removed]",
      "text/plain": [
       "<Figure size 216x360 with 1 Axes>"
      ]
     },
     "metadata": {
      "needs_background": "light"
     },
     "output_type": "display_data"
    }
   ],
   "source": [
    "labeled_barplot(c_data,'landing_page', perc=True)"
   ]
  },
  {
   "cell_type": "code",
   "execution_count": 25,
   "id": "e13822a8",
   "metadata": {},
   "outputs": [
    {
     "data": {
      "image/png": "[encoded data removed]",
      "text/plain": [
       "<Figure size 216x360 with 1 Axes>"
      ]
     },
     "metadata": {
      "needs_background": "light"
     },
     "output_type": "display_data"
    }
   ],
   "source": [
    "labeled_barplot(c_data,'converted', perc=True)"
   ]
  },
  {
   "cell_type": "code",
   "execution_count": 26,
   "id": "a9ef83d2",
   "metadata": {},
   "outputs": [
    {
     "data": {
      "image/png": "[encoded data removed]",
      "text/plain": [
       "<Figure size 288x360 with 1 Axes>"
      ]
     },
     "metadata": {
      "needs_background": "light"
     },
     "output_type": "display_data"
    }
   ],
   "source": [
    "labeled_barplot(c_data,'language_preferred', perc=True)"
   ]
  },
  {
   "cell_type": "markdown",
   "id": "dfa6b00f",
   "metadata": {},
   "source": [
    "Observations:\n",
    "- The analysis of the dataset shows an equal size of visitors in the control and treatment group; 50 \n",
    "  each. And as result, the same for the landing page. \n",
    "- More visitors converted (54) to the new page as opposed to 46 for the old page.\n",
    "- French and Spanish top the list of most preferred languages and equally share the same number of \n",
    "  visitors. English remains the least preferred language."
   ]
  },
  {
   "cell_type": "markdown",
   "id": "fad2de2f",
   "metadata": {
    "id": "fad2de2f"
   },
   "source": [
    "### Bivariate Analysis"
   ]
  },
  {
   "cell_type": "code",
   "execution_count": 27,
   "id": "58e9a1d0",
   "metadata": {
    "id": "58e9a1d0"
   },
   "outputs": [
    {
     "data": {
      "image/png": "[encoded data removed]",
      "text/plain": [
       "<Figure size 576x576 with 1 Axes>"
      ]
     },
     "metadata": {
      "needs_background": "light"
     },
     "output_type": "display_data"
    }
   ],
   "source": [
    "plt.figure(figsize=(8, 8))\n",
    "plt.title('Time Spent on Page by Group', size=14)\n",
    "sns.histplot(data = c_data, x = 'time_spent_on_the_page', hue = 'group')\n",
    "plt.axvline(c_data['time_spent_on_the_page'].mean(),color='red')\n",
    "plt.axvline(c_data['time_spent_on_the_page'].median(),color='green')\n",
    "plt.xlabel('Time Spent')\n",
    "plt.ylabel('Group Count')\n",
    "plt.show()"
   ]
  },
  {
   "cell_type": "code",
   "execution_count": 28,
   "id": "718cc9b1",
   "metadata": {},
   "outputs": [
    {
     "data": {
      "image/png": "[encoded data removed]",
      "text/plain": [
       "<Figure size 576x576 with 1 Axes>"
      ]
     },
     "metadata": {
      "needs_background": "light"
     },
     "output_type": "display_data"
    }
   ],
   "source": [
    "plt.figure(figsize=(8, 8))\n",
    "plt.title('Time Spent on landing Page', size=14)\n",
    "sns.histplot(data = c_data, x = 'time_spent_on_the_page', hue = 'landing_page')\n",
    "plt.axvline(c_data['time_spent_on_the_page'].mean(),color='red')\n",
    "plt.axvline(c_data['time_spent_on_the_page'].median(),color='green')\n",
    "plt.xlabel('Time Spent')\n",
    "plt.ylabel('Group Count')    \n",
    "plt.show()"
   ]
  },
  {
   "cell_type": "code",
   "execution_count": 29,
   "id": "fbb6c631",
   "metadata": {},
   "outputs": [
    {
     "data": {
      "image/png": "[encoded data removed]",
      "text/plain": [
       "<Figure size 576x576 with 1 Axes>"
      ]
     },
     "metadata": {
      "needs_background": "light"
     },
     "output_type": "display_data"
    }
   ],
   "source": [
    "plt.figure(figsize=(8, 8))\n",
    "plt.title('Time Spent on landing Page and Conversion Rate', size=14)\n",
    "sns.histplot(data = c_data, x = 'time_spent_on_the_page', hue = 'converted')\n",
    "plt.axvline(c_data['time_spent_on_the_page'].mean(),color='red')\n",
    "plt.axvline(c_data['time_spent_on_the_page'].median(),color='green')\n",
    "plt.xlabel('Time Spent')\n",
    "plt.ylabel('Group Count')          \n",
    "plt.show()"
   ]
  },
  {
   "cell_type": "code",
   "execution_count": 30,
   "id": "daec6ccc",
   "metadata": {},
   "outputs": [
    {
     "data": {
      "image/png": "[encoded data removed]",
      "text/plain": [
       "<Figure size 576x576 with 1 Axes>"
      ]
     },
     "metadata": {
      "needs_background": "light"
     },
     "output_type": "display_data"
    }
   ],
   "source": [
    "plt.figure(figsize=(8, 8))\n",
    "plt.title('Time Spent on landing Page and Preferred Language', size=14)\n",
    "sns.histplot(data = c_data, x = 'time_spent_on_the_page', hue = 'language_preferred')\n",
    "plt.axvline(c_data['time_spent_on_the_page'].mean(),color='red')\n",
    "plt.axvline(c_data['time_spent_on_the_page'].median(),color='green')\n",
    "plt.xlabel('Time Spent')\n",
    "plt.ylabel('Group Count')          \n",
    "plt.show()"
   ]
  },
  {
   "cell_type": "markdown",
   "id": "1f009b7f",
   "metadata": {},
   "source": [
    "Observations:\n",
    "- A visual inspection shows a high concentration of visitor's time around the mean (5.37mn) for the \n",
    "  treatment group.\n",
    "- Visitors spend more time on the new page. Some in this group spent 10mn or more. Page visiting's \n",
    "  time for most in the treatment group ranges from 4mn to 8mn while those in the control group lies \n",
    "  betwen 0 to 4 mn. This seems to confirm our previous observations when we computed the mean time \n",
    "  for both groups.\n",
    "- More visitors converted to the new page as previously stated.\n",
    "- Spanish and French come first for the preferred languages."
   ]
  },
  {
   "cell_type": "markdown",
   "id": "27906576",
   "metadata": {
    "id": "27906576"
   },
   "source": [
    "## 2. Do the users spend more time on the new landing page than the existing landing page? (10 Marks)"
   ]
  },
  {
   "cell_type": "markdown",
   "id": "e5fdf0c8",
   "metadata": {
    "id": "e5fdf0c8"
   },
   "source": [
    "### Perform Visual Analysis"
   ]
  },
  {
   "cell_type": "code",
   "execution_count": 31,
   "id": "6eZJa41eg21n",
   "metadata": {
    "id": "6eZJa41eg21n"
   },
   "outputs": [
    {
     "data": {
      "image/png": "[encoded data removed]",
      "text/plain": [
       "<Figure size 576x432 with 1 Axes>"
      ]
     },
     "metadata": {
      "needs_background": "light"
     },
     "output_type": "display_data"
    }
   ],
   "source": [
    "# Visual analysis of the time spent on the new page\n",
    "# and the time spent on the old page\n",
    "plt.figure(figsize=(8,6))\n",
    "sns.boxplot(data= c_data, x = 'landing_page', y = 'time_spent_on_the_page')\n",
    "plt.show()"
   ]
  },
  {
   "cell_type": "markdown",
   "id": "e572e4fe",
   "metadata": {},
   "source": [
    "Visual Observations:\n",
    "\n",
    "- The graphs show us that the data is normally distributed. No right or left skewness.\n",
    "\n",
    "- The median time spent by visitors on the new page(treatment group) is just above 6mn while above   \n",
    "  4.5mn for the old page.\n",
    "  \n",
    "- Minimum and maximum time point around 3.2mn and 9.7mn respectively. The time spent by visitors on  \n",
    "  the new page hovers around the center values.\n",
    "\n",
    "- 75% of the visitors navigate on the new page for more than 7mn with some outliers lying well above \n",
    "  10mn or below 2 mn. \n",
    "     \n",
    "- 75 % of the visitors who navigate on the old page expend around 6.25mn with a maximum time above \n",
    "  10mn and a minimum time close to 0mn. A great variability can be noticed on the old page.\n",
    "  \n",
    "- 25% of visitors stay around 5 mn on the page and around 2.5 mn on the old one.\n",
    "  \n",
    "- Visitors seem to spend more time on the new landing page. But these observations need to be \n",
    "  confirmed with statistical evidence."
   ]
  },
  {
   "cell_type": "markdown",
   "id": "56b3dafd",
   "metadata": {
    "id": "56b3dafd"
   },
   "source": [
    "### Step 1: Define the null and alternate hypotheses"
   ]
  },
  {
   "cell_type": "markdown",
   "id": "e0784cde",
   "metadata": {},
   "source": [
    "\n",
    "Let $\\mu_1, \\mu_2$ be the average time (mean) of the **Treatment group** that navigates on the new page and the average time of the **Control group** that navigates on the old page  respectively.\n",
    "\n",
    "We will test the null hypothesis:\n",
    "\n",
    ">$H_0:\\mu_1=\\mu_2$\n",
    "\n",
    "against the alternate hypothesis\n",
    "\n",
    ">$H_a:\\mu_1>\\mu_2$"
   ]
  },
  {
   "cell_type": "markdown",
   "id": "c7ee4907",
   "metadata": {
    "id": "c7ee4907"
   },
   "source": [
    "### Step 2: Select Appropriate test"
   ]
  },
  {
   "cell_type": "markdown",
   "id": "b88b78af",
   "metadata": {},
   "source": [
    "- Continuous data - The time spent on a page is measured on a continuous scale.\n",
    "- Normally distributed populations - The samples are greater than 30. From the central limit theorem,   we can assume that we \n",
    "  have normal distributions.\n",
    "- Independent populations - As we are taking random samples for two different groups, the two samples   are from two independent \n",
    "  populations.\n",
    "- Unequal population standard deviation .\n",
    "- Random sampling from the population - We are informed samples are randomly collected.\n",
    "- Based on these assumptions, two **Independent Sample T-test for Equality of Means - Unequal Std \n",
    "  Dev** is appropriate."
   ]
  },
  {
   "cell_type": "markdown",
   "id": "3f58c9a7",
   "metadata": {
    "id": "3f58c9a7"
   },
   "source": [
    "### Step 3: Decide the significance level"
   ]
  },
  {
   "cell_type": "markdown",
   "id": "dfffd983",
   "metadata": {},
   "source": [
    "As given in the problem statement, we select $\\alpha$ = 0.05."
   ]
  },
  {
   "cell_type": "markdown",
   "id": "5fed2eac",
   "metadata": {
    "id": "5fed2eac"
   },
   "source": [
    "### Step 4: Collect and prepare data"
   ]
  },
  {
   "cell_type": "code",
   "execution_count": 12,
   "id": "42956ce3",
   "metadata": {},
   "outputs": [
    {
     "data": {
      "text/plain": [
       "6.22"
      ]
     },
     "execution_count": 12,
     "metadata": {},
     "output_type": "execute_result"
    }
   ],
   "source": [
    "# Extracting the treatment group data as a dataframe\n",
    "treatment_grp= c_data[c_data['group']== 'treatment']\n",
    "# Figuring out the mean time for the treatment group which navigates on the new page.landing page variable could be used\n",
    "# as well\n",
    "round(treatment_grp['time_spent_on_the_page'].mean(),2)"
   ]
  },
  {
   "cell_type": "code",
   "execution_count": 13,
   "id": "c23c3d90",
   "metadata": {},
   "outputs": [
    {
     "data": {
      "text/plain": [
       "1.82"
      ]
     },
     "execution_count": 13,
     "metadata": {},
     "output_type": "execute_result"
    }
   ],
   "source": [
    "# Calculating the standard deviaton on the time spent on the new page\n",
    "round(treatment_grp['time_spent_on_the_page'].std(),2)"
   ]
  },
  {
   "cell_type": "code",
   "execution_count": 14,
   "id": "c3f5e0fa",
   "metadata": {},
   "outputs": [
    {
     "data": {
      "text/plain": [
       "4.53"
      ]
     },
     "execution_count": 14,
     "metadata": {},
     "output_type": "execute_result"
    }
   ],
   "source": [
    "# Extracting the control group data as a dataframe\n",
    "control_grp= c_data[c_data['group']== 'control']\n",
    "# Figuring out the mean time for the control group which navigates on the old page\n",
    "round(control_grp['time_spent_on_the_page'].mean(),2)"
   ]
  },
  {
   "cell_type": "code",
   "execution_count": 15,
   "id": "c8b31d38",
   "metadata": {},
   "outputs": [
    {
     "data": {
      "text/plain": [
       "2.58"
      ]
     },
     "execution_count": 15,
     "metadata": {},
     "output_type": "execute_result"
    }
   ],
   "source": [
    "# Calculating the standard deviaton on the time spent on the old page\n",
    "round(control_grp['time_spent_on_the_page'].std(),2)"
   ]
  },
  {
   "cell_type": "code",
   "execution_count": 16,
   "id": "f5a59495",
   "metadata": {
    "id": "f5a59495"
   },
   "outputs": [
    {
     "name": "stdout",
     "output_type": "stream",
     "text": [
      "The mean time of the old page group is 4.53\n",
      "The mean time of the new page group is 6.22\n",
      "The standard deviation of the old page group is 2.58\n",
      "The standard deviation of the new page group is 1.82\n"
     ]
    }
   ],
   "source": [
    "# Again we bring the sample means and sample standard deviations for the two samples calculated in the EDA section\n",
    "print('The mean time of the old page group is ' + str(round(c_data[c_data['group']== 'control']['time_spent_on_the_page'].mean(),2)))\n",
    "print('The mean time of the new page group is ' + str(round(c_data[c_data['group']== 'treatment']['time_spent_on_the_page'].mean(),2)))\n",
    "print('The standard deviation of the old page group is ' + str(round(c_data[c_data['group'] == 'control']['time_spent_on_the_page'].std(), 2)))\n",
    "print('The standard deviation of the new page group is ' + str(round(c_data[c_data['group']== 'treatment']['time_spent_on_the_page'].std(), 2)))"
   ]
  },
  {
   "cell_type": "markdown",
   "id": "f5c5258d",
   "metadata": {
    "id": "f5c5258d"
   },
   "source": [
    "### Step 5: Calculate the p-value"
   ]
  },
  {
   "cell_type": "code",
   "execution_count": 17,
   "id": "fac8594a",
   "metadata": {
    "id": "fac8594a"
   },
   "outputs": [
    {
     "name": "stdout",
     "output_type": "stream",
     "text": [
      "The p-value is  0.0001392381225166549\n"
     ]
    }
   ],
   "source": [
    "# Importing the required library\n",
    "from scipy.stats import ttest_ind\n",
    "\n",
    "# Finding the p-value\n",
    "test_stat, p_value = ttest_ind(c_data[c_data['group']== 'treatment']['time_spent_on_the_page'],c_data[c_data['group'] == 'control']['time_spent_on_the_page'] , equal_var = False, alternative = 'greater')\n",
    "print('The p-value is ', p_value)"
   ]
  },
  {
   "cell_type": "markdown",
   "id": "359b12f8",
   "metadata": {
    "id": "359b12f8"
   },
   "source": [
    "### Step 6: Compare the p-value with $\\alpha$"
   ]
  },
  {
   "cell_type": "markdown",
   "id": "63a2c68d",
   "metadata": {
    "id": "7be47289"
   },
   "source": [
    "The P value is 0.00013 and is less than alpha (the level of significance) 0.05."
   ]
  },
  {
   "cell_type": "markdown",
   "id": "d9affc84",
   "metadata": {
    "id": "d9affc84"
   },
   "source": [
    "### Step 7:  Draw inference"
   ]
  },
  {
   "cell_type": "markdown",
   "id": "8dadf6d2",
   "metadata": {},
   "source": [
    "- The p value is less  than alpha. Therefore, we reject the null hypothesis. As a result, with \n",
    "  a 95% confidence level,  we have enough statstical evidence to conclude that the mean time spent by visitors on the new page   is greater than the time spent on the old one."
   ]
  },
  {
   "cell_type": "markdown",
   "id": "6b16dd4b",
   "metadata": {
    "id": "6b16dd4b"
   },
   "source": []
  },
  {
   "cell_type": "markdown",
   "id": "1ad0823a",
   "metadata": {
    "id": "1ad0823a"
   },
   "source": [
    "**A similar approach can be followed to answer the other questions.**"
   ]
  },
  {
   "cell_type": "markdown",
   "id": "353e9d24",
   "metadata": {
    "id": "353e9d24"
   },
   "source": [
    "## 3. Is the conversion rate (the proportion of users who visit the landing page and get converted) for the new page greater than the conversion rate for the old page? (10 Marks)"
   ]
  },
  {
   "cell_type": "markdown",
   "id": "33cd13b7",
   "metadata": {},
   "source": [
    "### Step 1: Define the null and alternate hypotheses"
   ]
  },
  {
   "cell_type": "markdown",
   "id": "f8c10e22",
   "metadata": {
    "id": "b7f52898"
   },
   "source": [
    "### Let's write the null and alternative hypothesis\n",
    "* 'group' and 'converted' are two categorical variables.\n",
    "* We want to see if the proportion of users who visit the new landing page and get converted is higher than the proportion of \n",
    "  users who visited the old page.\n",
    "\n",
    "**$H_0:$ The proportion of users who visited the new page and get converted is equal to the proportion of users who visited the \n",
    "  old page and get converted**\n",
    "\n",
    "**$H_a:$ The proportion of users who visited the new page and get converted is greater than the proportion of users who \n",
    "  visited the old page and get converted**"
   ]
  },
  {
   "cell_type": "markdown",
   "id": "ca148aaa",
   "metadata": {},
   "source": [
    "### Step 2: Select Appropriate test"
   ]
  },
  {
   "cell_type": "markdown",
   "id": "44751306",
   "metadata": {},
   "source": [
    "- Binomally distributed population. A visitor converts to a new page or not with a yes or no.\n",
    "- Random sampling from the population. We are informed that the collected sample is a simple random sample.\n",
    "- Approximate the binomial distribution to normal distribution leveraging the CLT for binary data.\n",
    "- Check whether np and n(1-p) are greater than or equal to 10.  n and p refer to the sample size and sample proportion \n",
    "  respectively."
   ]
  },
  {
   "cell_type": "markdown",
   "id": "e688d17a",
   "metadata": {},
   "source": [
    "- Check whether np and n(1-p) are greater than or equal to 10.  n and p refer to the sample size and sample proportion \n",
    "  respectively.\n",
    ">$np_1 = 50\\cdot \\frac{33}{50} =33 \\geq 10\\\\\n",
    "n(1-p_1) = 50 \\cdot \\frac{50-33}{50} =17 \\geq 10 \\\\\n",
    "np_2 = 50\\cdot \\frac{21}{50} =21 \\geq 10\\\\\n",
    "n(1-p_2) = 50 \\cdot \\frac{50-21}{50} =29 \\geq 10 $"
   ]
  },
  {
   "cell_type": "code",
   "execution_count": 18,
   "id": "1470a282",
   "metadata": {},
   "outputs": [
    {
     "data": {
      "image/png": "[encoded data removed]",
      "text/plain": [
       "<Figure size 432x288 with 1 Axes>"
      ]
     },
     "metadata": {
      "needs_background": "light"
     },
     "output_type": "display_data"
    }
   ],
   "source": [
    "pd.crosstab(c_data['converted'],c_data['landing_page'],normalize='index').plot(kind='bar',stacked =True)\n",
    "plt.legend()\n",
    "plt.show()"
   ]
  },
  {
   "cell_type": "markdown",
   "id": "2d830e38",
   "metadata": {},
   "source": [
    "### Step 3: Decide the significance level"
   ]
  },
  {
   "cell_type": "markdown",
   "id": "5a0e805e",
   "metadata": {},
   "source": [
    "As given in the problem statement, we select  𝛼  = 0.05."
   ]
  },
  {
   "cell_type": "markdown",
   "id": "b71e9832",
   "metadata": {},
   "source": [
    "### Step 4: Collect and prepare data"
   ]
  },
  {
   "cell_type": "code",
   "execution_count": 30,
   "id": "96bb8b9c",
   "metadata": {},
   "outputs": [
    {
     "data": {
      "text/plain": [
       "33"
      ]
     },
     "execution_count": 30,
     "metadata": {},
     "output_type": "execute_result"
    }
   ],
   "source": [
    "# Determining the conversion number in the treatment group that navigates on the new page\n",
    "conv_nbr_treatgrp= c_data[c_data['group']== 'treatment']['converted'].value_counts()['yes']\n",
    "conv_nbr_treatgrp"
   ]
  },
  {
   "cell_type": "code",
   "execution_count": 20,
   "id": "d788564f",
   "metadata": {},
   "outputs": [
    {
     "data": {
      "text/plain": [
       "33"
      ]
     },
     "execution_count": 20,
     "metadata": {},
     "output_type": "execute_result"
    }
   ],
   "source": [
    "# Just using the landing page variable to show the same result. Decide to go with the group variable\n",
    "new_landing_page_grp= c_data[c_data['landing_page']== 'new']\n",
    "conv_nbr_new_landing_page= new_landing_page_grp[new_landing_page_grp['converted']== 'yes'].value_counts().sum()\n",
    "conv_nbr_new_landing_page"
   ]
  },
  {
   "cell_type": "code",
   "execution_count": 33,
   "id": "72a6e4b2",
   "metadata": {},
   "outputs": [
    {
     "data": {
      "text/plain": [
       "21"
      ]
     },
     "execution_count": 33,
     "metadata": {},
     "output_type": "execute_result"
    }
   ],
   "source": [
    "# Determining the conversion number in the control group that navigates on the old page\n",
    "control_grp= c_data[c_data['group']== 'control']['converted'].value_counts()['yes']\n",
    "conv_nbr_controlgrp"
   ]
  },
  {
   "cell_type": "code",
   "execution_count": 22,
   "id": "85db19a9",
   "metadata": {},
   "outputs": [
    {
     "data": {
      "text/plain": [
       "50"
      ]
     },
     "execution_count": 22,
     "metadata": {},
     "output_type": "execute_result"
    }
   ],
   "source": [
    "# Determining the size of the treatment group\n",
    "treatment_grp= c_data[c_data['group']== 'treatment']\n",
    "treatmen\n",
    "treatment_grp_size"
   ]
  },
  {
   "cell_type": "code",
   "execution_count": 23,
   "id": "4dbbf6c7",
   "metadata": {},
   "outputs": [
    {
     "data": {
      "text/plain": [
       "50"
      ]
     },
     "execution_count": 23,
     "metadata": {},
     "output_type": "execute_result"
    }
   ],
   "source": [
    "# Determining the size of the control group\n",
    "control_grp= c_data[c_data['group']== 'control']\n",
    "control_grp_size= control_grp.value_counts().sum()\n",
    "control_grp_size"
   ]
  },
  {
   "cell_type": "code",
   "execution_count": 24,
   "id": "29037ae3",
   "metadata": {},
   "outputs": [
    {
     "name": "stdout",
     "output_type": "stream",
     "text": [
      " The proportions of converted visitors of two groups to new page are 0.66, 0.42 respectively\n"
     ]
    }
   ],
   "source": [
    "# Printing the proportions of converted to new page within each group\n",
    "print(f' The proportions of converted visitors of two groups to new page are {round(33/50,2)}, {round(21/50,2)} respectively')"
   ]
  },
  {
   "cell_type": "markdown",
   "id": "7810dcb6",
   "metadata": {},
   "source": [
    "### Step 5: Calculate the p-value"
   ]
  },
  {
   "cell_type": "code",
   "execution_count": 34,
   "id": "eaa4e043",
   "metadata": {},
   "outputs": [
    {
     "name": "stdout",
     "output_type": "stream",
     "text": [
      "The p-value is 0.008\n"
     ]
    }
   ],
   "source": [
    "# Importing the required proportion library\n",
    "from statsmodels.stats.proportion import proportions_ztest\n",
    "\n",
    "# Finding the p-value using proportion_ztest\n",
    "stat, p_value = proportions_ztest([conv_nbr_treatgrp,conv_nbr_controlgrp] , [treatment_grp_size,control_grp_size], alternative='larger')\n",
    "\n",
    "# Printing the p-value\n",
    "print('The p-value is '+ str(round(pval,3)))"
   ]
  },
  {
   "cell_type": "markdown",
   "id": "cddc3b31",
   "metadata": {},
   "source": [
    "### Step 6: Compare the p-value with $\\alpha$"
   ]
  },
  {
   "cell_type": "markdown",
   "id": "1449ce3f",
   "metadata": {},
   "source": [
    "P value 0.016 is less than alpha 0.05."
   ]
  },
  {
   "cell_type": "markdown",
   "id": "f325bc50",
   "metadata": {},
   "source": [
    "### Step 7:  Draw inference"
   ]
  },
  {
   "cell_type": "markdown",
   "id": "4b5a877a",
   "metadata": {},
   "source": [
    "Since the p value is less than 0.05, we reject the null hypothesis. Enough statistical evidence propels us to affirm with a 95% confidence level that the conversion rate for the new page is greater than the one for the old page."
   ]
  },
  {
   "cell_type": "markdown",
   "id": "d49bfa2d",
   "metadata": {
    "id": "d49bfa2d"
   },
   "source": [
    "## 4. Is the conversion and preferred language are independent or related? (10 Marks)"
   ]
  },
  {
   "cell_type": "markdown",
   "id": "9c5dd994",
   "metadata": {
    "id": "b0e63f17"
   },
   "source": [
    "### Step 1: Define the null and alternate hypotheses"
   ]
  },
  {
   "cell_type": "markdown",
   "id": "4e1ec1f3",
   "metadata": {},
   "source": [
    "$H_0:$ Conversion is independent of preferred language\n",
    "\n",
    "$H_a:$ Conversion is NOT independent preferred language"
   ]
  },
  {
   "cell_type": "markdown",
   "id": "d6304b23",
   "metadata": {},
   "source": [
    "### Step 2: Select Appropriate test"
   ]
  },
  {
   "cell_type": "markdown",
   "id": "7400a2d3",
   "metadata": {},
   "source": [
    "Chi-square test of independence of attributes can be leveraged to grasp insights on the relationship between the two categorical variables: conversion (yes or no) and the preferred languague (English, Spanish or French)."
   ]
  },
  {
   "cell_type": "markdown",
   "id": "b3d605ce",
   "metadata": {},
   "source": [
    "### Step 3: Decide the significance level"
   ]
  },
  {
   "cell_type": "markdown",
   "id": "6fb59165",
   "metadata": {},
   "source": [
    "As given in the problem statement, we select α= 0.05."
   ]
  },
  {
   "cell_type": "markdown",
   "id": "9f32ee1e",
   "metadata": {},
   "source": [
    "### Step 4: Collect and prepare data"
   ]
  },
  {
   "cell_type": "code",
   "execution_count": 45,
   "id": "8a50735a",
   "metadata": {},
   "outputs": [
    {
     "data": {
      "text/plain": [
       "yes    54\n",
       "no     46\n",
       "Name: converted, dtype: int64"
      ]
     },
     "execution_count": 45,
     "metadata": {},
     "output_type": "execute_result"
    }
   ],
   "source": [
    "# Getting the unique values for converted\n",
    "conversion_cnt = c_data['converted'].value_counts()\n",
    "conversion_cnt"
   ]
  },
  {
   "cell_type": "code",
   "execution_count": 46,
   "id": "e51a8dda",
   "metadata": {},
   "outputs": [
    {
     "data": {
      "text/plain": [
       "French     34\n",
       "Spanish    34\n",
       "English    32\n",
       "Name: language_preferred, dtype: int64"
      ]
     },
     "execution_count": 46,
     "metadata": {},
     "output_type": "execute_result"
    }
   ],
   "source": [
    "# Getting the unique values for the preferred languages\n",
    "pref_lang_cnt = c_data['language_preferred'].value_counts()\n",
    "pref_lang_cnt"
   ]
  },
  {
   "cell_type": "code",
   "execution_count": 47,
   "id": "464c6b44",
   "metadata": {},
   "outputs": [
    {
     "data": {
      "image/png": "[encoded data removed]",
      "text/plain": [
       "<Figure size 432x288 with 1 Axes>"
      ]
     },
     "metadata": {
      "needs_background": "light"
     },
     "output_type": "display_data"
    }
   ],
   "source": [
    "# Creating a stacked bar plot to compare the distributions of both categorical variables\n",
    "pd.crosstab(c_data['converted'],c_data['language_preferred'],normalize='index').plot(kind='bar',stacked =True)\n",
    "plt.legend()\n",
    "plt.show()"
   ]
  },
  {
   "cell_type": "markdown",
   "id": "2cd125a7",
   "metadata": {},
   "source": [
    "Observation:\n",
    "- Even though English is the least preferred language(32%) in the distribution among visitors, a   \n",
    "  visual inspection of the above   graph shows us that the proportion of English speaking visitors \n",
    "  who converted seems higher."
   ]
  },
  {
   "cell_type": "code",
   "execution_count": 48,
   "id": "04fb0b02",
   "metadata": {},
   "outputs": [
    {
     "data": {
      "text/html": [
       "<div>\n",
       "<style scoped>\n",
       "    .dataframe tbody tr th:only-of-type {\n",
       "        vertical-align: middle;\n",
       "    }\n",
       "\n",
       "    .dataframe tbody tr th {\n",
       "        vertical-align: top;\n",
       "    }\n",
       "\n",
       "    .dataframe thead th {\n",
       "        text-align: right;\n",
       "    }\n",
       "</style>\n",
       "<table border=\"1\" class=\"dataframe\">\n",
       "  <thead>\n",
       "    <tr style=\"text-align: right;\">\n",
       "      <th>language_preferred</th>\n",
       "      <th>English</th>\n",
       "      <th>French</th>\n",
       "      <th>Spanish</th>\n",
       "    </tr>\n",
       "    <tr>\n",
       "      <th>converted</th>\n",
       "      <th></th>\n",
       "      <th></th>\n",
       "      <th></th>\n",
       "    </tr>\n",
       "  </thead>\n",
       "  <tbody>\n",
       "    <tr>\n",
       "      <th>no</th>\n",
       "      <td>11</td>\n",
       "      <td>19</td>\n",
       "      <td>16</td>\n",
       "    </tr>\n",
       "    <tr>\n",
       "      <th>yes</th>\n",
       "      <td>21</td>\n",
       "      <td>15</td>\n",
       "      <td>18</td>\n",
       "    </tr>\n",
       "  </tbody>\n",
       "</table>\n",
       "</div>"
      ],
      "text/plain": [
       "language_preferred  English  French  Spanish\n",
       "converted                                   \n",
       "no                       11      19       16\n",
       "yes                      21      15       18"
      ]
     },
     "execution_count": 48,
     "metadata": {},
     "output_type": "execute_result"
    }
   ],
   "source": [
    "# Creating the contingency table showing the distribution of the two categorical variables\n",
    "contingency_table = pd.crosstab(c_data['converted'],c_data['language_preferred'])\n",
    "contingency_table"
   ]
  },
  {
   "cell_type": "markdown",
   "id": "9cf1fc28",
   "metadata": {},
   "source": [
    "### Step 5: Calculate the p-value"
   ]
  },
  {
   "cell_type": "code",
   "execution_count": 49,
   "id": "801efbae",
   "metadata": {},
   "outputs": [
    {
     "name": "stdout",
     "output_type": "stream",
     "text": [
      "The p-value is 0.213\n"
     ]
    }
   ],
   "source": [
    "# Importing the Chi-Square library\n",
    "from scipy.stats import chi2_contingency  \n",
    "# Using chi2_contingency() to find the p-value\n",
    "chi2, pval, dof, exp_freq = chi2_contingency(contingency_table)\n",
    "# Printing the p-value\n",
    "print('The p-value is', round(pval,3))"
   ]
  },
  {
   "cell_type": "markdown",
   "id": "520e8d18",
   "metadata": {},
   "source": [
    "### Step 6: Compare the p-value with $\\alpha$"
   ]
  },
  {
   "cell_type": "markdown",
   "id": "672b69a0",
   "metadata": {},
   "source": [
    "The p value (0.213) is greater than alpha (0.05). We fail to reject the null hypothesis."
   ]
  },
  {
   "cell_type": "markdown",
   "id": "e68f4053",
   "metadata": {},
   "source": [
    "### Step 7:  Draw inference"
   ]
  },
  {
   "cell_type": "markdown",
   "id": "a8374012",
   "metadata": {},
   "source": [
    "The conversion rate is independent of the preferred spoken language . Whether a visitor speaks English, French or Spanish is not a factor triggering a conversion from the old page to the new one."
   ]
  },
  {
   "cell_type": "markdown",
   "id": "8d585a90",
   "metadata": {
    "id": "8d585a90"
   },
   "source": [
    "## 5. Is the time spent on the new page same for the different language users? (10 Marks)"
   ]
  },
  {
   "cell_type": "markdown",
   "id": "37a84d12",
   "metadata": {
    "id": "b422f395"
   },
   "source": [
    "### Step 1: Define the null and alternate hypotheses"
   ]
  },
  {
   "cell_type": "markdown",
   "id": "a9535a82",
   "metadata": {},
   "source": [
    "    \n",
    "Let $\\mu_1, \\mu_2, \\mu_3$ be the means of time spent on the new page for English, French, and Spanish visitors respectively.\n",
    "\n",
    "We will test the null hypothesis against the alternative hypothesis:\n",
    "\n",
    "Null hypothesis:\n",
    "\n",
    ">$H_0: \\mu_1 = \\mu_2 = \\mu_3$\n",
    "\n",
    "Alternative hypothesis:\n",
    "\n",
    ">$H_a: $ At least one preferred language visitor mean is different from the rest."
   ]
  },
  {
   "cell_type": "markdown",
   "id": "3944e8ab",
   "metadata": {},
   "source": [
    "### Step 2: Select Appropriate test"
   ]
  },
  {
   "cell_type": "code",
   "execution_count": 50,
   "id": "2c345825",
   "metadata": {},
   "outputs": [
    {
     "data": {
      "text/plain": [
       "French     34\n",
       "Spanish    34\n",
       "English    32\n",
       "Name: language_preferred, dtype: int64"
      ]
     },
     "execution_count": 50,
     "metadata": {},
     "output_type": "execute_result"
    }
   ],
   "source": [
    "c_data['language_preferred'].value_counts()"
   ]
  },
  {
   "cell_type": "code",
   "execution_count": 51,
   "id": "2e9697a9",
   "metadata": {},
   "outputs": [
    {
     "name": "stdout",
     "output_type": "stream",
     "text": [
      "language_preferred\n",
      "English    5.559062\n",
      "French     5.253235\n",
      "Spanish    5.331765\n",
      "Name: time_spent_on_the_page, dtype: float64\n"
     ]
    },
    {
     "data": {
      "text/plain": [
       "Text(0.5, 1.0, 'Time Spent per Preferred Language')"
      ]
     },
     "execution_count": 51,
     "metadata": {},
     "output_type": "execute_result"
    },
    {
     "data": {
      "image/png": "[encoded data removed]",
      "text/plain": [
       "<Figure size 432x432 with 1 Axes>"
      ]
     },
     "metadata": {
      "needs_background": "light"
     },
     "output_type": "display_data"
    }
   ],
   "source": [
    "# Plotting a graph to see \n",
    "# mean of time spent at different levels of a preferred language\n",
    "print(c_data.groupby(\"language_preferred\")[\"time_spent_on_the_page\"].mean()\n",
    "\n",
    "# draw the boxplot for visualization \n",
    "fig, ax = plt.subplots(figsize = (6,6))\n",
    "a = sns.boxplot(x= \"language_preferred\", y = 'time_spent_on_the_page' , data = c_data, hue = 'language_preferred')\n",
    "a.set_title(\"Time Spent per Preferred Language\", fontsize=15)"
   ]
  },
  {
   "cell_type": "markdown",
   "id": "b1100679",
   "metadata": {},
   "source": [
    "Observation:\n",
    "The average times spent on the new page per preferred language seem equal. All visitors, regardless  of the language, consume 5mn."
   ]
  },
  {
   "cell_type": "markdown",
   "id": "d75d07c8",
   "metadata": {},
   "source": [
    "### Step 3: Decide the significance level"
   ]
  },
  {
   "cell_type": "markdown",
   "id": "8704a98e",
   "metadata": {},
   "source": [
    "As given in the problem statement, we select  𝛼  = 0.05."
   ]
  },
  {
   "cell_type": "markdown",
   "id": "5fb1caaa",
   "metadata": {},
   "source": [
    "### Step 4: Collect and prepare data"
   ]
  },
  {
   "cell_type": "markdown",
   "id": "1965e959",
   "metadata": {},
   "source": [
    "Checking for Normality and Equality of variance assumptions. \n",
    "\n",
    "* Shapiro-Wilk’s test will be applied to the response variable for testing normality.\n",
    "\n",
    "* Levene test will be applied to the response variable for testing equality of variance. "
   ]
  },
  {
   "cell_type": "markdown",
   "id": "6a43e5c0",
   "metadata": {},
   "source": [
    "Let's set up the null and alternative hypothesis for the Shapiro-Wilks's test respectively.\n",
    "\n",
    "We will test the null hypothesis against the alternative hypothesis:\n",
    "\n",
    ">$H_0$:  Time spent on page follows a normal distribution.\n",
    "\n",
    ">$H_a$   Time spent does not follow a normal distribution."
   ]
  },
  {
   "cell_type": "markdown",
   "id": "889bd234",
   "metadata": {},
   "source": [
    "##### Shapiro's Test"
   ]
  },
  {
   "cell_type": "code",
   "execution_count": 52,
   "id": "d39ee6c9",
   "metadata": {},
   "outputs": [
    {
     "name": "stdout",
     "output_type": "stream",
     "text": [
      "The p-value is 0.5643684267997742\n"
     ]
    }
   ],
   "source": [
    "# Testing the first assumption : Normality\n",
    "# Importing the required function\n",
    "from scipy import stats\n",
    "\n",
    "# find the p-value\n",
    "w, p_value = stats.shapiro(c_data['time_spent_on_the_page']) \n",
    "print('The p-value is', p_value)"
   ]
  },
  {
   "cell_type": "markdown",
   "id": "fcd9ce0f",
   "metadata": {},
   "source": [
    "Observation:\n",
    "\n",
    "The p-value (0.54) is greater than alpha(0.05). Hence, we fail to reject the null hypothesis. As a result, the response follows a normal distribution."
   ]
  },
  {
   "cell_type": "markdown",
   "id": "596d6460",
   "metadata": {},
   "source": [
    "##### Levene's Test"
   ]
  },
  {
   "cell_type": "markdown",
   "id": "9d18bc9a",
   "metadata": {},
   "source": [
    "Setting up the null and alternative hypothesis:\n",
    "\n",
    ">$H_0$: All the population variances are equal.\n",
    "\n",
    ">$H_a$: At least one variance is different from the rest."
   ]
  },
  {
   "cell_type": "code",
   "execution_count": 53,
   "id": "3d02ac16",
   "metadata": {},
   "outputs": [
    {
     "name": "stdout",
     "output_type": "stream",
     "text": [
      "The p-value is 0.06515086840327314\n"
     ]
    }
   ],
   "source": [
    "# Testing the second assumption : Homogeneity of Variance\n",
    "# Importing the required function\n",
    "from scipy.stats import levene\n",
    "\n",
    "statistic, p_value = levene(c_data['time_spent_on_the_page'][c_data['language_preferred']==\"English\"], \n",
    "                                   c_data['time_spent_on_the_page'][c_data['language_preferred']==\"French\"], \n",
    "                                   c_data['time_spent_on_the_page'][c_data['language_preferred']==\"Spanish\"])\n",
    "# find the p-value\n",
    "print('The p-value is', p_value)"
   ]
  },
  {
   "cell_type": "markdown",
   "id": "ba762a60",
   "metadata": {},
   "source": [
    "Observation:\n",
    "The p value (0.065) is greater than alpha (0.05).Hence, we fail to reject the null hypothesis of equal variances or homogeneity of variances. In other words, the variances are equal."
   ]
  },
  {
   "cell_type": "markdown",
   "id": "f0bf1905",
   "metadata": {},
   "source": [
    "##### One-way ANOVA Test"
   ]
  },
  {
   "cell_type": "markdown",
   "id": "39a3f694",
   "metadata": {},
   "source": [
    "Upon fulfilling the normality and equality of variances assumptions, we can examine the oneway Anova test assumptions:\n",
    "\n",
    "- The populations are normally distributed. The Shapiro-Wilk’s test validates it.\n",
    "- Samples are independent. Sample are randomly collected.\n",
    "- Population variances are equal. The levene's test confirms it."
   ]
  },
  {
   "cell_type": "markdown",
   "id": "09531261",
   "metadata": {},
   "source": [
    "### Step 5: Calculate the p-value"
   ]
  },
  {
   "cell_type": "code",
   "execution_count": 54,
   "id": "f3ba92c1",
   "metadata": {},
   "outputs": [
    {
     "name": "stdout",
     "output_type": "stream",
     "text": [
      "The p-value is 0.8665610536012648\n"
     ]
    }
   ],
   "source": [
    "# Importing the required function\n",
    "from scipy.stats import f_oneway\n",
    "\n",
    "# Performing one-way anova test\n",
    "test_stat, p_value = f_oneway(c_data['time_spent_on_the_page'][c_data['language_preferred']==\"English\"], \n",
    "                                   c_data['time_spent_on_the_page'][c_data['language_preferred']==\"French\"], \n",
    "                                   c_data['time_spent_on_the_page'][c_data['language_preferred']==\"Spanish\"])\n",
    "print('The p-value is ' + str(p_value))"
   ]
  },
  {
   "cell_type": "markdown",
   "id": "20d8c13a",
   "metadata": {},
   "source": [
    "### Step 6: Compare the p-value with $\\alpha$"
   ]
  },
  {
   "cell_type": "markdown",
   "id": "d468a5c0",
   "metadata": {},
   "source": [
    "The p value (0.86) is greater than alpha. Therefore, we fail to reject the null hypothesis."
   ]
  },
  {
   "cell_type": "markdown",
   "id": "9d2e8820",
   "metadata": {},
   "source": [
    "### Step 7:  Draw inference"
   ]
  },
  {
   "cell_type": "markdown",
   "id": "b95c519c",
   "metadata": {},
   "source": [
    "With a 95% confidence level, we can conclude that the average time spent by visitors, regardless of the preferred language, is the same."
   ]
  },
  {
   "cell_type": "markdown",
   "id": "3acbc947",
   "metadata": {
    "id": "3acbc947"
   },
   "source": [
    "## Conclusion and Business Recommendations"
   ]
  },
  {
   "cell_type": "markdown",
   "id": "209e92c6",
   "metadata": {},
   "source": [
    "- This study confirms that an EDA is not enough to draw conclusions and make business decisions. \n",
    "\n",
    "- A first exploratory data analysis may lead to conclude that the business should target Spanish and   French speaking new customers as they form the majority of visitors.Two thirds of the sample \n",
    "  distribution speak either Spanish or French (68%), and one third speaks Engish (32%). \n",
    "  \n",
    "- A visual graphical inspection points out that English speaking visitors's conversion rate seems \n",
    "  higher than for other speaking languages.\n",
    "  \n",
    "- The analysis also shows that visitors spend more time on the new page than on the old one.\n",
    "\n",
    "- More visitors converted slightly to the new page than the old one. 54 out 100. \n",
    "\n",
    "- **A deep statistical analysis reveals meaningful findings**\n",
    "\n",
    "- Conversion to the new page is independent of a specific spoken language.\n",
    "  \n",
    "- The deep analysis showcases that the average time spent visiting the new page is the same for all \n",
    "  visitors.\n",
    "  \n",
    "- The conversion rate is higher for the new page than for the old one. \n",
    "  \n",
    "  As a result, language is not a hurdle for introducing the new feature and attracting new \n",
    "  subscribers. The company should pursue the rollout as the study reveals that the conversion rate to \n",
    "  the new page is higher than for the old page. \n"
   ]
  },
  {
   "cell_type": "markdown",
   "id": "21fb1063",
   "metadata": {
    "id": "21fb1063"
   },
   "source": []
  }
 ],
 "metadata": {
  "colab": {
   "collapsed_sections": [],
   "name": "ENews_Express_Learner_Notebook[Full Code Version].ipynb",
   "provenance": []
  },
  "kernelspec": {
   "display_name": "Python 3 (ipykernel)",
   "language": "python",
   "name": "python3"
  },
  "language_info": {
   "codemirror_mode": {
    "name": "ipython",
    "version": 3
   },
   "file_extension": ".py",
   "mimetype": "text/x-python",
   "name": "python",
   "nbconvert_exporter": "python",
   "pygments_lexer": "ipython3",
   "version": "3.9.7"
  }
 },
 "nbformat": 4,
 "nbformat_minor": 5
}
